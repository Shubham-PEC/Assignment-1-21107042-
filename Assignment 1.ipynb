{
 "cells": [
  {
   "cell_type": "code",
   "execution_count": 40,
   "id": "728a114c",
   "metadata": {},
   "outputs": [
    {
     "name": "stdout",
     "output_type": "stream",
     "text": [
      "Write any floating point number here: 12.345\n",
      "Write any floating point number here: 12.346\n",
      "Write any floating point number here: 12.347\n",
      "12.35\n"
     ]
    }
   ],
   "source": [
    "# Write a Python program to find average of three numbers entered by the user.\n",
    "\n",
    "n1 = float(input(\"Write any floating point number here: \"))\n",
    "n2 = float(input(\"Write any floating point number here: \"))\n",
    "n3 = float(input(\"Write any floating point number here: \"))\n",
    "Sum = n1+n2+n3\n",
    "Avg = Sum/3.0\n",
    "print(round(Avg,2))"
   ]
  },
  {
   "cell_type": "code",
   "execution_count": 53,
   "id": "ddf2f655",
   "metadata": {},
   "outputs": [
    {
     "name": "stdout",
     "output_type": "stream",
     "text": [
      "Write your gross income in $ to the nearest penny: 4570000\n",
      "Write the number of Dependents here:6\n",
      "Your amount of tax is $908400.0\n"
     ]
    }
   ],
   "source": [
    "#Write a python program to compute a person's income tax. Assume following\n",
    "#tax laws:\n",
    "#• All taxpayers are charged a flat tax rate of 20%.\n",
    "#• All taxpayers are allowed a $10,000 standard deduction.\n",
    "#• For each dependent, a taxpayer is allowed an additional $3,000 deduction.\n",
    "#• Gross income must be entered to the nearest penny.\n",
    "#Gross Income and the number of dependents must be asked from the user.\n",
    "\n",
    "rate = 0.20\n",
    "Gross_Income = float(input(\"Write your gross income in $ to the nearest penny: \"))\n",
    "stnd_deduction = 10000\n",
    "Taxable_income = Gross_Income - stnd_deduction\n",
    "Num_of_Dependents = int(input(\"Write the number of Dependents here:\"))\n",
    "Taxable_income = Taxable_income - (Num_of_Dependents)*3000\n",
    "Tax = (Taxable_income) * rate\n",
    "print(\"Your amount of tax is $\" + str(round(Tax,2)))"
   ]
  },
  {
   "cell_type": "code",
   "execution_count": 43,
   "id": "541fe323",
   "metadata": {},
   "outputs": [
    {
     "name": "stdout",
     "output_type": "stream",
     "text": [
      "Write the total no. of seconds here: 200\n",
      "This is equal to 3 Minutes and 20 Seconds\n"
     ]
    }
   ],
   "source": [
    "## Write a program that asks the user for a number of seconds and prints out how many minutes and seconds that is.\n",
    "#For instance, 200 seconds is 3 minutes and 20 seconds. [Hint: Use the //operator to get minutes and the %\n",
    "#operator to get seconds.\n",
    "\n",
    "num_of_sec = int(input(\"Write the total no. of seconds here: \"))\n",
    "minutes = (num_of_sec)//60\n",
    "seconds_left = (num_of_sec)%60\n",
    "print(\"This is equal to \" + str(minutes) + \" Minutes and\", str(seconds_left) + \" Seconds\")"
   ]
  },
  {
   "cell_type": "code",
   "execution_count": 48,
   "id": "54626c2f",
   "metadata": {},
   "outputs": [
    {
     "name": "stdout",
     "output_type": "stream",
     "text": [
      "Write any integer here:25\n",
      "Write any integer here:25\n",
      "Write any integer here:25\n",
      "Their sum is : 75\n"
     ]
    }
   ],
   "source": [
    "# Write a python program to add three numbers 25+'25'+25.0 and produce result 75 as string.\n",
    "\n",
    "num_1 = int(input(\"Write any integer here:\"))\n",
    "num_2 = float(input(\"Write any integer here:\"))\n",
    "num_3 = str(input(\"Write any integer here:\"))\n",
    "a = num_1\n",
    "b = int(num_2)\n",
    "c = int(num_3)\n",
    "Sum = a+b+c\n",
    "print(\"Their sum is : \" + str(Sum))"
   ]
  },
  {
   "cell_type": "code",
   "execution_count": 51,
   "id": "13e46f70",
   "metadata": {},
   "outputs": [
    {
     "name": "stdout",
     "output_type": "stream",
     "text": [
      "angle: 0     sin: 0.0        cos: 1.0\n",
      "angle: 15     sin: 0.2588        cos: 0.9659\n",
      "angle: 30     sin: 0.5        cos: 0.866\n",
      "angle: 45     sin: 0.7071        cos: 0.7071\n",
      "angle: 60     sin: 0.866        cos: 0.5\n",
      "angle: 75     sin: 0.9659        cos: 0.2588\n",
      "angle: 90     sin: 1.0        cos: 0.0\n",
      "angle: 105     sin: 0.9659        cos: -0.2588\n",
      "angle: 120     sin: 0.866        cos: -0.5\n",
      "angle: 135     sin: 0.7071        cos: -0.7071\n",
      "angle: 150     sin: 0.5        cos: -0.866\n",
      "angle: 165     sin: 0.2588        cos: -0.9659\n",
      "angle: 180     sin: 0.0        cos: -1.0\n",
      "angle: 195     sin: -0.2588        cos: -0.9659\n",
      "angle: 210     sin: -0.5        cos: -0.866\n",
      "angle: 225     sin: -0.7071        cos: -0.7071\n",
      "angle: 240     sin: -0.866        cos: -0.5\n",
      "angle: 255     sin: -0.9659        cos: -0.2588\n",
      "angle: 270     sin: -1.0        cos: -0.0\n",
      "angle: 285     sin: -0.9659        cos: 0.2588\n",
      "angle: 300     sin: -0.866        cos: 0.5\n",
      "angle: 315     sin: -0.7071        cos: 0.7071\n",
      "angle: 330     sin: -0.5        cos: 0.866\n",
      "angle: 345     sin: -0.2588        cos: 0.9659\n"
     ]
    }
   ],
   "source": [
    "#Write a program that prints out the sine and cosine of the angles ranging from 0 to 345◦ in 15◦ increments.\n",
    "#Each result should be rounded to 4 decimal places. Sample output is shown.\n",
    "\n",
    "import math as math\n",
    "\n",
    "angle = 0\n",
    "while angle < 360:\n",
    "    rad = angle * math.pi / 180\n",
    "    print('angle: ' + str(angle) + '     sin: ' + str(round(math.sin(rad),4)) + '        cos: ' + str(round(math.cos(rad),4)))\n",
    "    angle += 15\n"
   ]
  },
  {
   "cell_type": "code",
   "execution_count": null,
   "id": "99ffec85",
   "metadata": {},
   "outputs": [],
   "source": []
  }
 ],
 "metadata": {
  "kernelspec": {
   "display_name": "Python 3",
   "language": "python",
   "name": "python3"
  },
  "language_info": {
   "codemirror_mode": {
    "name": "ipython",
    "version": 3
   },
   "file_extension": ".py",
   "mimetype": "text/x-python",
   "name": "python",
   "nbconvert_exporter": "python",
   "pygments_lexer": "ipython3",
   "version": "3.8.8"
  }
 },
 "nbformat": 4,
 "nbformat_minor": 5
}
